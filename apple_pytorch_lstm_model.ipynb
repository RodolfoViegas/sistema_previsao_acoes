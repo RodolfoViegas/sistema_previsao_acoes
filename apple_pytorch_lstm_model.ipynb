{
  "nbformat": 4,
  "nbformat_minor": 5,
  "metadata": {
    "kernelspec": {
      "display_name": "Python 3",
      "language": "python",
      "name": "python3"
    },
    "language_info": {
      "codemirror_mode": {
        "name": "ipython",
        "version": 3
      },
      "file_extension": ".py",
      "mimetype": "text/x-python",
      "name": "python",
      "nbconvert_exporter": "python",
      "pygments_lexer": "ipython3",
      "version": "3.8.8"
    },
    "colab": {
      "name": "apple_pytorch_lstm_model.ipynb",
      "provenance": [],
      "include_colab_link": true
    }
  },
  "cells": [
    {
      "cell_type": "markdown",
      "metadata": {
        "id": "view-in-github",
        "colab_type": "text"
      },
      "source": [
        "<a href=\"https://colab.research.google.com/github/RodolfoViegas/sistema_previsao_acoes/blob/main/apple_pytorch_lstm_model.ipynb\" target=\"_parent\"><img src=\"https://colab.research.google.com/assets/colab-badge.svg\" alt=\"Open In Colab\"/></a>"
      ]
    },
    {
      "cell_type": "markdown",
      "metadata": {
        "id": "8d946a89-0ac3-4c1f-be90-ea27e61c8e00"
      },
      "source": [
        "# Modelo de Rede Neural LSTM para previsão da Série temporal de preços da empresa Apple\n",
        "\n",
        "O modelo é contruído com o API Pytorch e os dados são coletados pelo API pandas data reader.\n",
        "\n",
        "A série possui frequência de 15 minutos\n",
        "\n",
        "Fonte de códigos: https://stackabuse.com/time-series-prediction-using-lstm-with-pytorch-in-python"
      ],
      "id": "8d946a89-0ac3-4c1f-be90-ea27e61c8e00"
    },
    {
      "cell_type": "code",
      "metadata": {
        "id": "c40109ab-d67e-49de-a4a7-9f54c9438f9c"
      },
      "source": [
        "import pandas as pd\n",
        "import pandas_datareader.data as web\n",
        "import numpy as np\n",
        "import matplotlib.pyplot as plt\n",
        "import seaborn as sns\n",
        "sns.set_theme(style=\"darkgrid\")\n",
        "\n",
        "from sklearn.metrics import mean_absolute_error\n",
        "from sklearn.metrics import mean_squared_error\n",
        "from sklearn.preprocessing import MinMaxScaler\n",
        "#from sklearn.model_selection import TimeSeriesSplit\n",
        "\n",
        "import torch\n",
        "import torch.nn as nn"
      ],
      "id": "c40109ab-d67e-49de-a4a7-9f54c9438f9c",
      "execution_count": null,
      "outputs": []
    },
    {
      "cell_type": "code",
      "metadata": {
        "id": "378a5815-741d-4af0-95a2-695f9abc474c"
      },
      "source": [
        "df = web.DataReader(\"AAPL\", \"av-intraday\", start=\"2020-01-01\",end=\"2021-07-02\",\n",
        "                        api_key='BNYLT38LCDB0TBWF',)    "
      ],
      "id": "378a5815-741d-4af0-95a2-695f9abc474c",
      "execution_count": null,
      "outputs": []
    },
    {
      "cell_type": "code",
      "metadata": {
        "colab": {
          "base_uri": "https://localhost:8080/"
        },
        "id": "4a4164c6-48da-4523-882a-eb9ed144513e",
        "outputId": "bc2b6a25-9ccc-43c4-9dea-8e4a7dfe02d9"
      },
      "source": [
        "df.info()"
      ],
      "id": "4a4164c6-48da-4523-882a-eb9ed144513e",
      "execution_count": null,
      "outputs": [
        {
          "output_type": "stream",
          "text": [
            "<class 'pandas.core.frame.DataFrame'>\n",
            "Index: 6842 entries, 2021-06-21 04:01:00 to 2021-07-01 20:00:00\n",
            "Data columns (total 5 columns):\n",
            " #   Column  Non-Null Count  Dtype  \n",
            "---  ------  --------------  -----  \n",
            " 0   open    6842 non-null   float64\n",
            " 1   high    6842 non-null   float64\n",
            " 2   low     6842 non-null   float64\n",
            " 3   close   6842 non-null   float64\n",
            " 4   volume  6842 non-null   int64  \n",
            "dtypes: float64(4), int64(1)\n",
            "memory usage: 320.7+ KB\n"
          ],
          "name": "stdout"
        }
      ]
    },
    {
      "cell_type": "code",
      "metadata": {
        "colab": {
          "base_uri": "https://localhost:8080/",
          "height": 676
        },
        "id": "1c061a9e-0b04-4dca-93e1-6577d708c5f2",
        "outputId": "5bae297f-1f15-426a-f871-e6fee2876d59"
      },
      "source": [
        "df.head(20)"
      ],
      "id": "1c061a9e-0b04-4dca-93e1-6577d708c5f2",
      "execution_count": null,
      "outputs": [
        {
          "output_type": "execute_result",
          "data": {
            "text/html": [
              "<div>\n",
              "<style scoped>\n",
              "    .dataframe tbody tr th:only-of-type {\n",
              "        vertical-align: middle;\n",
              "    }\n",
              "\n",
              "    .dataframe tbody tr th {\n",
              "        vertical-align: top;\n",
              "    }\n",
              "\n",
              "    .dataframe thead th {\n",
              "        text-align: right;\n",
              "    }\n",
              "</style>\n",
              "<table border=\"1\" class=\"dataframe\">\n",
              "  <thead>\n",
              "    <tr style=\"text-align: right;\">\n",
              "      <th></th>\n",
              "      <th>open</th>\n",
              "      <th>high</th>\n",
              "      <th>low</th>\n",
              "      <th>close</th>\n",
              "      <th>volume</th>\n",
              "    </tr>\n",
              "  </thead>\n",
              "  <tbody>\n",
              "    <tr>\n",
              "      <th>2021-06-21 04:01:00</th>\n",
              "      <td>130.77</td>\n",
              "      <td>131.30</td>\n",
              "      <td>130.65</td>\n",
              "      <td>130.97</td>\n",
              "      <td>3215</td>\n",
              "    </tr>\n",
              "    <tr>\n",
              "      <th>2021-06-21 04:02:00</th>\n",
              "      <td>130.97</td>\n",
              "      <td>130.97</td>\n",
              "      <td>130.29</td>\n",
              "      <td>130.29</td>\n",
              "      <td>2945</td>\n",
              "    </tr>\n",
              "    <tr>\n",
              "      <th>2021-06-21 04:03:00</th>\n",
              "      <td>130.21</td>\n",
              "      <td>130.35</td>\n",
              "      <td>130.21</td>\n",
              "      <td>130.35</td>\n",
              "      <td>1639</td>\n",
              "    </tr>\n",
              "    <tr>\n",
              "      <th>2021-06-21 04:04:00</th>\n",
              "      <td>130.21</td>\n",
              "      <td>130.35</td>\n",
              "      <td>130.21</td>\n",
              "      <td>130.35</td>\n",
              "      <td>596</td>\n",
              "    </tr>\n",
              "    <tr>\n",
              "      <th>2021-06-21 04:05:00</th>\n",
              "      <td>130.35</td>\n",
              "      <td>130.46</td>\n",
              "      <td>130.35</td>\n",
              "      <td>130.46</td>\n",
              "      <td>2002</td>\n",
              "    </tr>\n",
              "    <tr>\n",
              "      <th>2021-06-21 04:06:00</th>\n",
              "      <td>130.45</td>\n",
              "      <td>130.46</td>\n",
              "      <td>130.45</td>\n",
              "      <td>130.46</td>\n",
              "      <td>3074</td>\n",
              "    </tr>\n",
              "    <tr>\n",
              "      <th>2021-06-21 04:12:00</th>\n",
              "      <td>130.46</td>\n",
              "      <td>130.50</td>\n",
              "      <td>130.46</td>\n",
              "      <td>130.50</td>\n",
              "      <td>796</td>\n",
              "    </tr>\n",
              "    <tr>\n",
              "      <th>2021-06-21 04:13:00</th>\n",
              "      <td>130.50</td>\n",
              "      <td>130.50</td>\n",
              "      <td>130.50</td>\n",
              "      <td>130.50</td>\n",
              "      <td>1046</td>\n",
              "    </tr>\n",
              "    <tr>\n",
              "      <th>2021-06-21 04:20:00</th>\n",
              "      <td>130.44</td>\n",
              "      <td>130.46</td>\n",
              "      <td>130.44</td>\n",
              "      <td>130.46</td>\n",
              "      <td>1034</td>\n",
              "    </tr>\n",
              "    <tr>\n",
              "      <th>2021-06-21 04:22:00</th>\n",
              "      <td>130.52</td>\n",
              "      <td>130.54</td>\n",
              "      <td>130.52</td>\n",
              "      <td>130.54</td>\n",
              "      <td>721</td>\n",
              "    </tr>\n",
              "    <tr>\n",
              "      <th>2021-06-21 04:23:00</th>\n",
              "      <td>130.54</td>\n",
              "      <td>130.54</td>\n",
              "      <td>130.53</td>\n",
              "      <td>130.54</td>\n",
              "      <td>2192</td>\n",
              "    </tr>\n",
              "    <tr>\n",
              "      <th>2021-06-21 04:24:00</th>\n",
              "      <td>130.59</td>\n",
              "      <td>130.60</td>\n",
              "      <td>130.59</td>\n",
              "      <td>130.60</td>\n",
              "      <td>476</td>\n",
              "    </tr>\n",
              "    <tr>\n",
              "      <th>2021-06-21 04:25:00</th>\n",
              "      <td>130.60</td>\n",
              "      <td>130.60</td>\n",
              "      <td>130.55</td>\n",
              "      <td>130.55</td>\n",
              "      <td>2542</td>\n",
              "    </tr>\n",
              "    <tr>\n",
              "      <th>2021-06-21 04:27:00</th>\n",
              "      <td>130.55</td>\n",
              "      <td>130.55</td>\n",
              "      <td>130.55</td>\n",
              "      <td>130.55</td>\n",
              "      <td>270</td>\n",
              "    </tr>\n",
              "    <tr>\n",
              "      <th>2021-06-21 04:28:00</th>\n",
              "      <td>130.51</td>\n",
              "      <td>130.51</td>\n",
              "      <td>130.51</td>\n",
              "      <td>130.51</td>\n",
              "      <td>220</td>\n",
              "    </tr>\n",
              "    <tr>\n",
              "      <th>2021-06-21 04:33:00</th>\n",
              "      <td>130.54</td>\n",
              "      <td>130.54</td>\n",
              "      <td>130.54</td>\n",
              "      <td>130.54</td>\n",
              "      <td>124</td>\n",
              "    </tr>\n",
              "    <tr>\n",
              "      <th>2021-06-21 04:34:00</th>\n",
              "      <td>130.52</td>\n",
              "      <td>130.63</td>\n",
              "      <td>130.52</td>\n",
              "      <td>130.63</td>\n",
              "      <td>1227</td>\n",
              "    </tr>\n",
              "    <tr>\n",
              "      <th>2021-06-21 04:37:00</th>\n",
              "      <td>130.63</td>\n",
              "      <td>130.65</td>\n",
              "      <td>130.63</td>\n",
              "      <td>130.65</td>\n",
              "      <td>1031</td>\n",
              "    </tr>\n",
              "    <tr>\n",
              "      <th>2021-06-21 04:38:00</th>\n",
              "      <td>130.63</td>\n",
              "      <td>130.63</td>\n",
              "      <td>130.63</td>\n",
              "      <td>130.63</td>\n",
              "      <td>205</td>\n",
              "    </tr>\n",
              "    <tr>\n",
              "      <th>2021-06-21 04:40:00</th>\n",
              "      <td>130.80</td>\n",
              "      <td>130.80</td>\n",
              "      <td>130.80</td>\n",
              "      <td>130.80</td>\n",
              "      <td>1015</td>\n",
              "    </tr>\n",
              "  </tbody>\n",
              "</table>\n",
              "</div>"
            ],
            "text/plain": [
              "                       open    high     low   close  volume\n",
              "2021-06-21 04:01:00  130.77  131.30  130.65  130.97    3215\n",
              "2021-06-21 04:02:00  130.97  130.97  130.29  130.29    2945\n",
              "2021-06-21 04:03:00  130.21  130.35  130.21  130.35    1639\n",
              "2021-06-21 04:04:00  130.21  130.35  130.21  130.35     596\n",
              "2021-06-21 04:05:00  130.35  130.46  130.35  130.46    2002\n",
              "2021-06-21 04:06:00  130.45  130.46  130.45  130.46    3074\n",
              "2021-06-21 04:12:00  130.46  130.50  130.46  130.50     796\n",
              "2021-06-21 04:13:00  130.50  130.50  130.50  130.50    1046\n",
              "2021-06-21 04:20:00  130.44  130.46  130.44  130.46    1034\n",
              "2021-06-21 04:22:00  130.52  130.54  130.52  130.54     721\n",
              "2021-06-21 04:23:00  130.54  130.54  130.53  130.54    2192\n",
              "2021-06-21 04:24:00  130.59  130.60  130.59  130.60     476\n",
              "2021-06-21 04:25:00  130.60  130.60  130.55  130.55    2542\n",
              "2021-06-21 04:27:00  130.55  130.55  130.55  130.55     270\n",
              "2021-06-21 04:28:00  130.51  130.51  130.51  130.51     220\n",
              "2021-06-21 04:33:00  130.54  130.54  130.54  130.54     124\n",
              "2021-06-21 04:34:00  130.52  130.63  130.52  130.63    1227\n",
              "2021-06-21 04:37:00  130.63  130.65  130.63  130.65    1031\n",
              "2021-06-21 04:38:00  130.63  130.63  130.63  130.63     205\n",
              "2021-06-21 04:40:00  130.80  130.80  130.80  130.80    1015"
            ]
          },
          "metadata": {
            "tags": []
          },
          "execution_count": 11
        }
      ]
    },
    {
      "cell_type": "code",
      "metadata": {
        "colab": {
          "base_uri": "https://localhost:8080/",
          "height": 339
        },
        "id": "4b8d7d25-00ca-4882-bd47-3bba6a103220",
        "outputId": "abbc9624-3289-4182-fd23-f4b13ab1c420"
      },
      "source": [
        "plt.clf()\n",
        "df.close.plot(figsize=(15,5))"
      ],
      "id": "4b8d7d25-00ca-4882-bd47-3bba6a103220",
      "execution_count": null,
      "outputs": [
        {
          "output_type": "execute_result",
          "data": {
            "text/plain": [
              "<matplotlib.axes._subplots.AxesSubplot at 0x7f4643d908d0>"
            ]
          },
          "metadata": {
            "tags": []
          },
          "execution_count": 12
        },
        {
          "output_type": "display_data",
          "data": {
            "image/png": "[encoded data removed]",
            "text/plain": [
              "<Figure size 1080x360 with 1 Axes>"
            ]
          },
          "metadata": {
            "tags": [],
            "needs_background": "light"
          }
        }
      ]
    },
    {
      "cell_type": "markdown",
      "metadata": {
        "id": "15265046-4764-4b91-85f9-5e8ca76c2aff"
      },
      "source": [
        "# Mudança no tipo do índice para 'datetime'"
      ],
      "id": "15265046-4764-4b91-85f9-5e8ca76c2aff"
    },
    {
      "cell_type": "code",
      "metadata": {
        "colab": {
          "base_uri": "https://localhost:8080/"
        },
        "id": "8ce58898-f40f-4f8f-b23a-fa60a8e9933e",
        "outputId": "e4521b8f-5dcb-417f-d00d-2c56f50c61ac"
      },
      "source": [
        "df.index = pd.to_datetime(df.index)\n",
        "df.info()"
      ],
      "id": "8ce58898-f40f-4f8f-b23a-fa60a8e9933e",
      "execution_count": null,
      "outputs": [
        {
          "output_type": "stream",
          "text": [
            "<class 'pandas.core.frame.DataFrame'>\n",
            "DatetimeIndex: 6842 entries, 2021-06-21 04:01:00 to 2021-07-01 20:00:00\n",
            "Data columns (total 5 columns):\n",
            " #   Column  Non-Null Count  Dtype  \n",
            "---  ------  --------------  -----  \n",
            " 0   open    6842 non-null   float64\n",
            " 1   high    6842 non-null   float64\n",
            " 2   low     6842 non-null   float64\n",
            " 3   close   6842 non-null   float64\n",
            " 4   volume  6842 non-null   int64  \n",
            "dtypes: float64(4), int64(1)\n",
            "memory usage: 320.7 KB\n"
          ],
          "name": "stdout"
        }
      ]
    },
    {
      "cell_type": "code",
      "metadata": {
        "colab": {
          "base_uri": "https://localhost:8080/",
          "height": 357
        },
        "id": "a39817c5-1e7a-4688-8466-5787db5b5d86",
        "outputId": "bcf149bc-5093-4680-9b88-f94461ac51ec"
      },
      "source": [
        "plt.clf()\n",
        "line,ax = plt.subplots(figsize=(20,5))\n",
        "sns.lineplot(data=df['close'],ax=ax)"
      ],
      "id": "a39817c5-1e7a-4688-8466-5787db5b5d86",
      "execution_count": null,
      "outputs": [
        {
          "output_type": "execute_result",
          "data": {
            "text/plain": [
              "<matplotlib.axes._subplots.AxesSubplot at 0x7f463b10f250>"
            ]
          },
          "metadata": {
            "tags": []
          },
          "execution_count": 14
        },
        {
          "output_type": "display_data",
          "data": {
            "text/plain": [
              "<Figure size 432x288 with 0 Axes>"
            ]
          },
          "metadata": {
            "tags": []
          }
        },
        {
          "output_type": "display_data",
          "data": {
            "image/png": "[encoded data removed]",
            "text/plain": [
              "<Figure size 1440x360 with 1 Axes>"
            ]
          },
          "metadata": {
            "tags": [],
            "needs_background": "light"
          }
        }
      ]
    },
    {
      "cell_type": "markdown",
      "metadata": {
        "id": "cbc8acec-aed3-40a6-84cc-8defa76e9bbf"
      },
      "source": [
        "As linhas que ligam pontos são dados em falta, os objetos datetime são criados, porém quando acionados pelo método .head() não parecem na tabela, pois estão vazios de dados. Quando do treino, só valores serão extraídos, podendo-se rejeitar tal formato.\n"
      ],
      "id": "cbc8acec-aed3-40a6-84cc-8defa76e9bbf"
    },
    {
      "cell_type": "markdown",
      "metadata": {
        "id": "54992ff2-a80f-4353-8495-2884089be130"
      },
      "source": [
        "# Estacionariedade\n",
        "\n",
        "Usando o gráfica acima desse, vemos que aquele possui tendência de declinio nos preços, indicando não-estacionáriedade nos dados. Um modo de verificar a estacionariedade, além de análise no gráfico, são testes estatísticos como Augmented Dickey-Fuller.\n"
      ],
      "id": "54992ff2-a80f-4353-8495-2884089be130"
    },
    {
      "cell_type": "code",
      "metadata": {
        "colab": {
          "base_uri": "https://localhost:8080/"
        },
        "id": "d7e719a0-cecf-44ca-823b-e631e3980ba7",
        "outputId": "f717e78b-6f88-4858-9bb3-0c0681453727"
      },
      "source": [
        "from statsmodels.tsa.stattools import adfuller\n",
        "\n",
        "X = df.close.values\n",
        "result = adfuller(X)\n",
        "print('ADF Statistic: %f' % result[0])\n",
        "print('p-value: %f' % result[1])\n",
        "print('Critical Values:')\n",
        "for key, value in result[4].items():\n",
        "    print('\\t%s: %.3f' % (key, value))"
      ],
      "id": "d7e719a0-cecf-44ca-823b-e631e3980ba7",
      "execution_count": null,
      "outputs": [
        {
          "output_type": "stream",
          "text": [
            "ADF Statistic: -1.560342\n",
            "p-value: 0.503478\n",
            "Critical Values:\n",
            "\t1%: -3.431\n",
            "\t5%: -2.862\n",
            "\t10%: -2.567\n"
          ],
          "name": "stdout"
        }
      ]
    },
    {
      "cell_type": "markdown",
      "metadata": {
        "id": "0d0c67c7-0754-475c-bd07-14a149fcf2b9"
      },
      "source": [
        "O p-valor de 0,5 é alto. A a hipóstese nula (H0) é aquela assume que a série é não-estacionária; sendo assim aceitamos H0 e podemos, dadas as evidências, considerar a série temporal como não-estacionária.\n",
        "\n"
      ],
      "id": "0d0c67c7-0754-475c-bd07-14a149fcf2b9"
    },
    {
      "cell_type": "markdown",
      "metadata": {
        "id": "Uqkz6hG5o_nW"
      },
      "source": [
        "Outro modo de averiguarmos se há estacionariedade na série é particionando-a e verificando se a variância e média são iguais na partes."
      ],
      "id": "Uqkz6hG5o_nW"
    },
    {
      "cell_type": "code",
      "metadata": {
        "id": "de6b7ad7-8dee-4a71-b523-38c573d6032a"
      },
      "source": [
        "part_1 = df.close.iloc[0:int(len(df.close)/2)]\n",
        "part_2 = df.close.iloc[int(len(df.close)/2):]"
      ],
      "id": "de6b7ad7-8dee-4a71-b523-38c573d6032a",
      "execution_count": null,
      "outputs": []
    },
    {
      "cell_type": "code",
      "metadata": {
        "colab": {
          "base_uri": "https://localhost:8080/"
        },
        "id": "79ccbc91-f1f7-455d-98d2-5f562645e890",
        "outputId": "4b206741-94c1-4e13-e078-4f7893bc3b51"
      },
      "source": [
        "print('Média da 1ª partição: ',part_1.mean(),'Média da 2ª partição: ',part_2.mean())"
      ],
      "id": "79ccbc91-f1f7-455d-98d2-5f562645e890",
      "execution_count": null,
      "outputs": [
        {
          "output_type": "stream",
          "text": [
            "Média da 1ª partição:  133.0704536977493 Média da 2ª partição:  135.5557632271263\n"
          ],
          "name": "stdout"
        }
      ]
    },
    {
      "cell_type": "code",
      "metadata": {
        "colab": {
          "base_uri": "https://localhost:8080/"
        },
        "id": "25eba44e-8773-4c18-b383-4e03176b42be",
        "outputId": "3ac832c6-5509-4a45-b768-8cfdcb103b62"
      },
      "source": [
        "print('Variância da 1ª partição: ',part_1.var(),'Variância da 2ª partição: ',part_2.var())"
      ],
      "id": "25eba44e-8773-4c18-b383-4e03176b42be",
      "execution_count": null,
      "outputs": [
        {
          "output_type": "stream",
          "text": [
            "Variância da 1ª partição:  1.1970966439022401 Variância da 2ª partição:  1.9434596300333284\n"
          ],
          "name": "stdout"
        }
      ]
    },
    {
      "cell_type": "markdown",
      "metadata": {
        "id": "z2xCq0aGpORW"
      },
      "source": [
        "Os valores são diferentes dando mais evidências.\n",
        "\n",
        "Há formas de minimizar a estacionariedade, como diferenciação e transformação logarítmica, ambas bastante usadas para os modelos ARIMA. \n",
        "\n",
        "Neste trabalho utilizaremos a transformação logarítimica para suavizar as diferenças."
      ],
      "id": "z2xCq0aGpORW"
    },
    {
      "cell_type": "markdown",
      "metadata": {
        "id": "CVPdbi5cp14L"
      },
      "source": [
        "# Mudança de Frequência nos dados \n",
        "\n",
        "A original é por minutos, passaremos para 15 minutos."
      ],
      "id": "CVPdbi5cp14L"
    },
    {
      "cell_type": "code",
      "metadata": {
        "colab": {
          "base_uri": "https://localhost:8080/",
          "height": 424
        },
        "id": "fbe19753-f44d-41a9-912c-7d07e269370b",
        "outputId": "8c2394d1-3579-4751-e949-c8cc664a44ab"
      },
      "source": [
        "df = df.asfreq('15Min',)\n",
        "df = df[df.index.dayofweek < 5].copy()\n",
        "df"
      ],
      "id": "fbe19753-f44d-41a9-912c-7d07e269370b",
      "execution_count": null,
      "outputs": [
        {
          "output_type": "execute_result",
          "data": {
            "text/html": [
              "<div>\n",
              "<style scoped>\n",
              "    .dataframe tbody tr th:only-of-type {\n",
              "        vertical-align: middle;\n",
              "    }\n",
              "\n",
              "    .dataframe tbody tr th {\n",
              "        vertical-align: top;\n",
              "    }\n",
              "\n",
              "    .dataframe thead th {\n",
              "        text-align: right;\n",
              "    }\n",
              "</style>\n",
              "<table border=\"1\" class=\"dataframe\">\n",
              "  <thead>\n",
              "    <tr style=\"text-align: right;\">\n",
              "      <th></th>\n",
              "      <th>open</th>\n",
              "      <th>high</th>\n",
              "      <th>low</th>\n",
              "      <th>close</th>\n",
              "      <th>volume</th>\n",
              "    </tr>\n",
              "  </thead>\n",
              "  <tbody>\n",
              "    <tr>\n",
              "      <th>2021-06-21 04:01:00</th>\n",
              "      <td>130.77</td>\n",
              "      <td>131.3000</td>\n",
              "      <td>130.65</td>\n",
              "      <td>130.9700</td>\n",
              "      <td>3215.0</td>\n",
              "    </tr>\n",
              "    <tr>\n",
              "      <th>2021-06-21 04:16:00</th>\n",
              "      <td>NaN</td>\n",
              "      <td>NaN</td>\n",
              "      <td>NaN</td>\n",
              "      <td>NaN</td>\n",
              "      <td>NaN</td>\n",
              "    </tr>\n",
              "    <tr>\n",
              "      <th>2021-06-21 04:31:00</th>\n",
              "      <td>NaN</td>\n",
              "      <td>NaN</td>\n",
              "      <td>NaN</td>\n",
              "      <td>NaN</td>\n",
              "      <td>NaN</td>\n",
              "    </tr>\n",
              "    <tr>\n",
              "      <th>2021-06-21 04:46:00</th>\n",
              "      <td>NaN</td>\n",
              "      <td>NaN</td>\n",
              "      <td>NaN</td>\n",
              "      <td>NaN</td>\n",
              "      <td>NaN</td>\n",
              "    </tr>\n",
              "    <tr>\n",
              "      <th>2021-06-21 05:01:00</th>\n",
              "      <td>NaN</td>\n",
              "      <td>NaN</td>\n",
              "      <td>NaN</td>\n",
              "      <td>NaN</td>\n",
              "      <td>NaN</td>\n",
              "    </tr>\n",
              "    <tr>\n",
              "      <th>...</th>\n",
              "      <td>...</td>\n",
              "      <td>...</td>\n",
              "      <td>...</td>\n",
              "      <td>...</td>\n",
              "      <td>...</td>\n",
              "    </tr>\n",
              "    <tr>\n",
              "      <th>2021-07-01 18:46:00</th>\n",
              "      <td>137.20</td>\n",
              "      <td>137.2001</td>\n",
              "      <td>137.20</td>\n",
              "      <td>137.2001</td>\n",
              "      <td>353.0</td>\n",
              "    </tr>\n",
              "    <tr>\n",
              "      <th>2021-07-01 19:01:00</th>\n",
              "      <td>137.21</td>\n",
              "      <td>137.2100</td>\n",
              "      <td>137.21</td>\n",
              "      <td>137.2100</td>\n",
              "      <td>153.0</td>\n",
              "    </tr>\n",
              "    <tr>\n",
              "      <th>2021-07-01 19:16:00</th>\n",
              "      <td>NaN</td>\n",
              "      <td>NaN</td>\n",
              "      <td>NaN</td>\n",
              "      <td>NaN</td>\n",
              "      <td>NaN</td>\n",
              "    </tr>\n",
              "    <tr>\n",
              "      <th>2021-07-01 19:31:00</th>\n",
              "      <td>137.18</td>\n",
              "      <td>137.1800</td>\n",
              "      <td>137.18</td>\n",
              "      <td>137.1800</td>\n",
              "      <td>470.0</td>\n",
              "    </tr>\n",
              "    <tr>\n",
              "      <th>2021-07-01 19:46:00</th>\n",
              "      <td>137.19</td>\n",
              "      <td>137.1900</td>\n",
              "      <td>137.19</td>\n",
              "      <td>137.1900</td>\n",
              "      <td>1409.0</td>\n",
              "    </tr>\n",
              "  </tbody>\n",
              "</table>\n",
              "<p>832 rows × 5 columns</p>\n",
              "</div>"
            ],
            "text/plain": [
              "                       open      high     low     close  volume\n",
              "2021-06-21 04:01:00  130.77  131.3000  130.65  130.9700  3215.0\n",
              "2021-06-21 04:16:00     NaN       NaN     NaN       NaN     NaN\n",
              "2021-06-21 04:31:00     NaN       NaN     NaN       NaN     NaN\n",
              "2021-06-21 04:46:00     NaN       NaN     NaN       NaN     NaN\n",
              "2021-06-21 05:01:00     NaN       NaN     NaN       NaN     NaN\n",
              "...                     ...       ...     ...       ...     ...\n",
              "2021-07-01 18:46:00  137.20  137.2001  137.20  137.2001   353.0\n",
              "2021-07-01 19:01:00  137.21  137.2100  137.21  137.2100   153.0\n",
              "2021-07-01 19:16:00     NaN       NaN     NaN       NaN     NaN\n",
              "2021-07-01 19:31:00  137.18  137.1800  137.18  137.1800   470.0\n",
              "2021-07-01 19:46:00  137.19  137.1900  137.19  137.1900  1409.0\n",
              "\n",
              "[832 rows x 5 columns]"
            ]
          },
          "metadata": {
            "tags": []
          },
          "execution_count": 51
        }
      ]
    },
    {
      "cell_type": "code",
      "metadata": {
        "colab": {
          "base_uri": "https://localhost:8080/"
        },
        "id": "4a75d152-2254-4738-a72a-c23e332eb189",
        "outputId": "1b0f1c28-7861-4bea-95b7-9f817378cef2"
      },
      "source": [
        "df.info()"
      ],
      "id": "4a75d152-2254-4738-a72a-c23e332eb189",
      "execution_count": null,
      "outputs": [
        {
          "output_type": "stream",
          "text": [
            "<class 'pandas.core.frame.DataFrame'>\n",
            "DatetimeIndex: 832 entries, 2021-06-21 04:01:00 to 2021-07-01 19:46:00\n",
            "Data columns (total 5 columns):\n",
            " #   Column  Non-Null Count  Dtype  \n",
            "---  ------  --------------  -----  \n",
            " 0   open    466 non-null    float64\n",
            " 1   high    466 non-null    float64\n",
            " 2   low     466 non-null    float64\n",
            " 3   close   466 non-null    float64\n",
            " 4   volume  466 non-null    float64\n",
            "dtypes: float64(5)\n",
            "memory usage: 39.0 KB\n"
          ],
          "name": "stdout"
        }
      ]
    },
    {
      "cell_type": "code",
      "metadata": {
        "id": "52d7bf45-104e-4525-9f11-723b5ec2ecaa"
      },
      "source": [
        ""
      ],
      "id": "52d7bf45-104e-4525-9f11-723b5ec2ecaa",
      "execution_count": null,
      "outputs": []
    },
    {
      "cell_type": "markdown",
      "metadata": {
        "id": "1NSOHgtTq3-D"
      },
      "source": [
        "# Separação em conjuntos de treino e teste e Pré-processamento"
      ],
      "id": "1NSOHgtTq3-D"
    },
    {
      "cell_type": "code",
      "metadata": {
        "colab": {
          "base_uri": "https://localhost:8080/"
        },
        "id": "ddd815cb-f8f5-4d8c-807e-7142b38cf4f1",
        "outputId": "51bccf5d-cff6-41fa-b2e6-d00d4adf9b23"
      },
      "source": [
        "train = df['close'].iloc[0:len(df['close'])-int(len(df['close'])*0.2)]\n",
        "test = df['close'].iloc[len(df['close'])-int(len(df['close'])*0.2):]\n",
        "print(len(train),len(test))"
      ],
      "id": "ddd815cb-f8f5-4d8c-807e-7142b38cf4f1",
      "execution_count": null,
      "outputs": [
        {
          "output_type": "stream",
          "text": [
            "666 166\n"
          ],
          "name": "stdout"
        }
      ]
    },
    {
      "cell_type": "markdown",
      "metadata": {
        "id": "hLmSSMUUq8ja"
      },
      "source": [
        "Após a mudança de frequência muitos dados acabam ficando em falta, para corrigir usamos a interpolação linear e preenchimento com o valor mais próximo."
      ],
      "id": "hLmSSMUUq8ja"
    },
    {
      "cell_type": "code",
      "metadata": {
        "colab": {
          "base_uri": "https://localhost:8080/"
        },
        "id": "Ehe9tJGhtFjY",
        "outputId": "07bf9d65-216b-4dfe-98a5-4c81ecb4dad8"
      },
      "source": [
        "train.isna().sum()"
      ],
      "id": "Ehe9tJGhtFjY",
      "execution_count": null,
      "outputs": [
        {
          "output_type": "execute_result",
          "data": {
            "text/plain": [
              "304"
            ]
          },
          "metadata": {
            "tags": []
          },
          "execution_count": 56
        }
      ]
    },
    {
      "cell_type": "code",
      "metadata": {
        "colab": {
          "base_uri": "https://localhost:8080/"
        },
        "id": "b7AkMWAMtOLE",
        "outputId": "f8165d5b-266a-4a6b-bf5f-4746034f0695"
      },
      "source": [
        "test.isna().sum()"
      ],
      "id": "b7AkMWAMtOLE",
      "execution_count": null,
      "outputs": [
        {
          "output_type": "execute_result",
          "data": {
            "text/plain": [
              "62"
            ]
          },
          "metadata": {
            "tags": []
          },
          "execution_count": 57
        }
      ]
    },
    {
      "cell_type": "code",
      "metadata": {
        "id": "loKB9kzsqnDi"
      },
      "source": [
        "train = train.interpolate()\n",
        "test = test.interpolate()"
      ],
      "id": "loKB9kzsqnDi",
      "execution_count": null,
      "outputs": []
    },
    {
      "cell_type": "code",
      "metadata": {
        "colab": {
          "base_uri": "https://localhost:8080/"
        },
        "id": "1ue-VfgstVq7",
        "outputId": "21325972-57c2-43d1-e904-b927a4837c45"
      },
      "source": [
        "print(train.isna().sum(),test.isna().sum())"
      ],
      "id": "1ue-VfgstVq7",
      "execution_count": null,
      "outputs": [
        {
          "output_type": "stream",
          "text": [
            "0 6\n"
          ],
          "name": "stdout"
        }
      ]
    },
    {
      "cell_type": "code",
      "metadata": {
        "id": "0nC50B9ette0"
      },
      "source": [
        "test.fillna(inplace=True,method='bfill')"
      ],
      "id": "0nC50B9ette0",
      "execution_count": null,
      "outputs": []
    },
    {
      "cell_type": "code",
      "metadata": {
        "colab": {
          "base_uri": "https://localhost:8080/"
        },
        "id": "xnqa9PbTt7kS",
        "outputId": "55003b92-9732-4a88-f1b2-e576c12462ba"
      },
      "source": [
        "print(train.isna().sum(),test.isna().sum())"
      ],
      "id": "xnqa9PbTt7kS",
      "execution_count": null,
      "outputs": [
        {
          "output_type": "stream",
          "text": [
            "0 0\n"
          ],
          "name": "stdout"
        }
      ]
    },
    {
      "cell_type": "code",
      "metadata": {
        "colab": {
          "base_uri": "https://localhost:8080/",
          "height": 357
        },
        "id": "190d4afb-0792-46a8-a3c6-4001d8ba052e",
        "outputId": "2fc4876b-e277-453d-fab9-2d833ffdc02c"
      },
      "source": [
        "plt.clf()\n",
        "line,ax = plt.subplots(figsize=(15,5))\n",
        "sns.lineplot(data=train,ax=ax)\n",
        "sns.lineplot(data=test,ax=ax)"
      ],
      "id": "190d4afb-0792-46a8-a3c6-4001d8ba052e",
      "execution_count": null,
      "outputs": [
        {
          "output_type": "execute_result",
          "data": {
            "text/plain": [
              "<matplotlib.axes._subplots.AxesSubplot at 0x7f463a7b55d0>"
            ]
          },
          "metadata": {
            "tags": []
          },
          "execution_count": 64
        },
        {
          "output_type": "display_data",
          "data": {
            "text/plain": [
              "<Figure size 432x288 with 0 Axes>"
            ]
          },
          "metadata": {
            "tags": []
          }
        },
        {
          "output_type": "display_data",
          "data": {
            "image/png": "[encoded data removed]",
            "text/plain": [
              "<Figure size 1080x360 with 1 Axes>"
            ]
          },
          "metadata": {
            "tags": [],
            "needs_background": "light"
          }
        }
      ]
    },
    {
      "cell_type": "markdown",
      "metadata": {
        "id": "DxaxDDovrJIi"
      },
      "source": [
        "O gráfico é semelhante ao original, sendo menos ruidoso."
      ],
      "id": "DxaxDDovrJIi"
    },
    {
      "cell_type": "code",
      "metadata": {
        "id": "af376048-fceb-4dfa-a63c-f524a2cb2104"
      },
      "source": [
        "# Transformação logarítimica, normalização (-1,1) e \"lagging\" (5)."
      ],
      "id": "af376048-fceb-4dfa-a63c-f524a2cb2104",
      "execution_count": null,
      "outputs": []
    },
    {
      "cell_type": "code",
      "metadata": {
        "id": "ceaf26d5-4ea0-480d-8f04-f3c8ff40dfe0"
      },
      "source": [
        "log_train = np.log(train)\n",
        "log_test = np.log(test)"
      ],
      "id": "ceaf26d5-4ea0-480d-8f04-f3c8ff40dfe0",
      "execution_count": null,
      "outputs": []
    },
    {
      "cell_type": "code",
      "metadata": {
        "id": "d162e694-dff4-42f0-95f1-c58e73b47375"
      },
      "source": [
        "# Valores normalizados. Quando a escala é adequada a um intervalo, no caso -1, 1 para este trabalho, a rede\n",
        "# neural consegue trabalhar melhor.\n",
        "\n",
        "\n",
        "log_train = np.array(log_train).reshape(log_train.shape[0],1)\n",
        "log_test = np.array(log_test).reshape(log_test.shape[0],1)\n",
        "\n",
        "scaler = MinMaxScaler(feature_range=(-1,1))\n",
        "scaler = scaler.fit(log_train.reshape(log_train.shape[0],1))\n",
        "\n",
        "log_train_normalized = scaler.transform(log_train)\n",
        "log_test_normalized = scaler.transform(log_test)\n",
        "\n"
      ],
      "id": "d162e694-dff4-42f0-95f1-c58e73b47375",
      "execution_count": null,
      "outputs": []
    },
    {
      "cell_type": "code",
      "metadata": {
        "id": "7676b6fe-ee35-41e6-8e61-e39e5df8acf9"
      },
      "source": [
        "# Transformação dos tensores numpy em  objetos Tensores de pytorch\n",
        "\n",
        "log_train_normalized = torch.FloatTensor(log_train_normalized).view(-1)\n",
        "log_test_normalized = torch.FloatTensor(log_test_normalized).view(-1)\n"
      ],
      "id": "7676b6fe-ee35-41e6-8e61-e39e5df8acf9",
      "execution_count": null,
      "outputs": []
    },
    {
      "cell_type": "code",
      "metadata": {
        "id": "e8dc96c5-0698-4e94-a267-fa358e1fce03"
      },
      "source": [
        "def create_inout_sequences(input_data, tw):\n",
        "    inout_seq = []\n",
        "    L = len(input_data)\n",
        "    for i in range(L-tw):\n",
        "        train_seq = input_data[i:i+tw]\n",
        "        train_label = input_data[i+tw:i+tw+1]\n",
        "        inout_seq.append((train_seq ,train_label))\n",
        "    return inout_seq"
      ],
      "id": "e8dc96c5-0698-4e94-a267-fa358e1fce03",
      "execution_count": null,
      "outputs": []
    },
    {
      "cell_type": "code",
      "metadata": {
        "id": "81f0ec77-b017-47e4-9d37-5846772a6985"
      },
      "source": [
        "# criação dos conjutos com \"lags\" de 5\n",
        "\n",
        "train = create_inout_sequences(log_train_normalized, 5)\n",
        "test = create_inout_sequences(log_test_normalized, 5)"
      ],
      "id": "81f0ec77-b017-47e4-9d37-5846772a6985",
      "execution_count": null,
      "outputs": []
    },
    {
      "cell_type": "code",
      "metadata": {
        "colab": {
          "base_uri": "https://localhost:8080/"
        },
        "id": "R6huwysTk_X_",
        "outputId": "0ee2a980-1ded-4944-95bb-9ac9d7fa7f5a"
      },
      "source": [
        "torch.manual_seed(0)"
      ],
      "id": "R6huwysTk_X_",
      "execution_count": null,
      "outputs": [
        {
          "output_type": "execute_result",
          "data": {
            "text/plain": [
              "<torch._C.Generator at 0x7f46473d0050>"
            ]
          },
          "metadata": {
            "tags": []
          },
          "execution_count": 269
        }
      ]
    },
    {
      "cell_type": "code",
      "metadata": {
        "id": "12d8dc26-7477-4ddd-b7d0-3a036115d7e9"
      },
      "source": [
        "class ModeloLSTM(nn.Module):\n",
        "    def __init__(self):\n",
        "        super().__init__()\n",
        "\n",
        "        \"\"\"É possível fazer um 'stack' de camadas como nas outras redes pytorch. O modo pytorch mais usado para LSTM, é passado ao \n",
        "        parâmetro 'num_layer' um valor equivalente a quantidade de camadas; só que usando esse jeito não\n",
        "        é possível controlar a quantidade de células de memória nas camadas internal,o número de neurônios será o mesmo valor para todas.\n",
        "        Fazendo uma pilha de camadas semelhante a arquiteturas como o MLP e Convolucional, é preciso tomar cuidado no valor do parâmetro 'input_size'\n",
        "        , que o número de 'features' de um vetor (no caso se séries temporais é um vetor simples de dimensão 1). Esse valor será\n",
        "        sempre o mesmo para o parâmetro em todas as layers, ou seja, se a quantidade de features é 1,o input_size será sempre 1.\n",
        "        \n",
        "        A camada MLP (Linear) possui o tamanho da entrada 'in_features' igual ao hidden state da LSTM anterior. \"\"\"\n",
        "\n",
        "        self.lstm1 = nn.LSTM(input_size=1, hidden_size=70,num_layers=1)\n",
        "\n",
        "        self.lstm2 = nn.LSTM(input_size=1, hidden_size=50,num_layers=1)\n",
        "\n",
        "        self.linear = nn.Linear(in_features=50, out_features=1)\n",
        "        \n",
        "        #Este dois atributos representam os hidden state e cell state para cada uma das camadas\n",
        "\n",
        "        # hidden state e cell state da 1 camada\n",
        "        self.hidden_cell_1 = (torch.zeros(1,1,70),\n",
        "                              torch.zeros(1,1,70))\n",
        "        \n",
        "        # hidden state e cell state da 2  camada\n",
        "        self.hidden_cell_2 = (torch.zeros(1,1,50),\n",
        "                              torch.zeros(1,1,50)) \n",
        "\n",
        "    def forward(self, input_seq):\n",
        "        lstm_out_1, _ = self.lstm1(input_seq.view(len(input_seq) ,1, -1), self.hidden_cell_1)\n",
        "\n",
        "        lstm_out_2, _ = self.lstm2(input_seq.view(len(lstm_out_1) ,1, -1), self.hidden_cell_2)\n",
        "        predictions = self.linear(lstm_out_2.view(len(input_seq), -1))\n",
        "        return predictions[-1]\n",
        "      "
      ],
      "id": "12d8dc26-7477-4ddd-b7d0-3a036115d7e9",
      "execution_count": null,
      "outputs": []
    },
    {
      "cell_type": "code",
      "metadata": {
        "id": "c473d0e9-7daa-4abb-b45f-1438c5efbb04"
      },
      "source": [
        "model = ModeloLSTM()\n",
        "loss_function = nn.MSELoss()\n",
        "optimizer = torch.optim.SGD(model.parameters(), lr=0.01)"
      ],
      "id": "c473d0e9-7daa-4abb-b45f-1438c5efbb04",
      "execution_count": null,
      "outputs": []
    },
    {
      "cell_type": "code",
      "metadata": {
        "id": "da390bad-793d-4e18-bfa7-632ab16b6093",
        "colab": {
          "base_uri": "https://localhost:8080/"
        },
        "outputId": "d9d3e403-f394-4b7e-877d-1b82e6209e3f"
      },
      "source": [
        "print(model)"
      ],
      "id": "da390bad-793d-4e18-bfa7-632ab16b6093",
      "execution_count": null,
      "outputs": [
        {
          "output_type": "stream",
          "text": [
            "ModeloLSTM(\n",
            "  (lstm1): LSTM(1, 70)\n",
            "  (lstm2): LSTM(1, 50)\n",
            "  (linear): Linear(in_features=50, out_features=1, bias=True)\n",
            ")\n"
          ],
          "name": "stdout"
        }
      ]
    },
    {
      "cell_type": "code",
      "metadata": {
        "id": "cf5c1a2b-1ed5-4d6c-827b-047cc5a8f788",
        "colab": {
          "base_uri": "https://localhost:8080/"
        },
        "outputId": "401ef9ba-9028-4108-a0be-e1c03e096d68"
      },
      "source": [
        "epochs = 5\n",
        "for i in range(epochs):\n",
        "    for seq, labels in train:\n",
        "        optimizer.zero_grad()\n",
        "        model.hidden_cell_1 = (torch.zeros(1, 1, 70),\n",
        "                        torch.zeros(1, 1, 70))\n",
        "        \n",
        "        model.hidden_cell_2 = (torch.zeros(1, 1, 50),\n",
        "                        torch.zeros(1, 1, 50))\n",
        "\n",
        "        y_pred = model(seq)\n",
        "\n",
        "        single_loss = loss_function(y_pred, labels)\n",
        "        single_loss.backward()\n",
        "        optimizer.step()\n",
        "\n",
        "    if i%25 == 1:\n",
        "        print(f'epoch: {i:3} loss: {single_loss.item():10.8f}')\n",
        "\n",
        "print(f'epoch: {i:3} loss: {single_loss.item():10.10f}')\n"
      ],
      "id": "cf5c1a2b-1ed5-4d6c-827b-047cc5a8f788",
      "execution_count": null,
      "outputs": [
        {
          "output_type": "stream",
          "text": [
            "epoch:   1 loss: 0.00088340\n",
            "epoch:   4 loss: 0.0000008170\n"
          ],
          "name": "stdout"
        }
      ]
    },
    {
      "cell_type": "markdown",
      "metadata": {
        "id": "OtqCgHbNonIb"
      },
      "source": [
        "#Fase de teste\n",
        "\n",
        "As métricas escolhidas foram RMSE e MAE"
      ],
      "id": "OtqCgHbNonIb"
    },
    {
      "cell_type": "code",
      "metadata": {
        "id": "1843393a-4270-4beb-bb09-4d9b2aa2d243",
        "colab": {
          "base_uri": "https://localhost:8080/"
        },
        "outputId": "8bf4c55a-141b-4083-d127-ff7ae0cf999d"
      },
      "source": [
        "model.eval\n",
        "preds = []\n",
        "labels = []\n",
        "for seq, label in test:\n",
        "    y_pred= model(seq)\n",
        "    preds.append(y_pred)\n",
        "    labels.append(label)\n",
        "    \n",
        "\n",
        "\n",
        "\n",
        "# RMSE e MAE\n",
        "print(np.sqrt(mean_squared_error(preds, labels)))\n",
        "print(mean_absolute_error(preds, labels))\n",
        "        "
      ],
      "id": "1843393a-4270-4beb-bb09-4d9b2aa2d243",
      "execution_count": null,
      "outputs": [
        {
          "output_type": "stream",
          "text": [
            "0.0615674586857886\n",
            "0.05369377469424135\n"
          ],
          "name": "stdout"
        }
      ]
    },
    {
      "cell_type": "code",
      "metadata": {
        "id": "40a883a5-854d-4efb-ab70-8e91c7040433"
      },
      "source": [
        "np_preds = []\n",
        "for i in preds:\n",
        "    np_preds.append(i.detach().numpy())\n",
        "np_preds = np.array(np_preds).reshape((161,1))"
      ],
      "id": "40a883a5-854d-4efb-ab70-8e91c7040433",
      "execution_count": null,
      "outputs": []
    },
    {
      "cell_type": "markdown",
      "metadata": {
        "id": "hhtHCUoHouFa"
      },
      "source": [
        "# Gráfico plotando os valores preditos e reais."
      ],
      "id": "hhtHCUoHouFa"
    },
    {
      "cell_type": "code",
      "metadata": {
        "id": "15d57113-96eb-44d9-8a13-33de0451e010",
        "colab": {
          "base_uri": "https://localhost:8080/",
          "height": 357
        },
        "outputId": "f26aae24-8d56-4e3b-89b3-6b5c5c5146d6"
      },
      "source": [
        "plt.clf()\n",
        "line,ax = plt.subplots(figsize=(15,5))\n",
        "sns.lineplot(data=np.exp(scaler.inverse_transform(np_preds)),ax=ax, palette='Dark2_r',legend='' )\n",
        "sns.lineplot(data=np.exp(scaler.inverse_transform(np.array(labels).reshape(161,1))),ax=ax,)\n",
        "plt.legend(labels=['Previstos','Reais'])"
      ],
      "id": "15d57113-96eb-44d9-8a13-33de0451e010",
      "execution_count": null,
      "outputs": [
        {
          "output_type": "execute_result",
          "data": {
            "text/plain": [
              "<matplotlib.legend.Legend at 0x7f4634f504d0>"
            ]
          },
          "metadata": {
            "tags": []
          },
          "execution_count": 276
        },
        {
          "output_type": "display_data",
          "data": {
            "text/plain": [
              "<Figure size 432x288 with 0 Axes>"
            ]
          },
          "metadata": {
            "tags": []
          }
        },
        {
          "output_type": "display_data",
          "data": {
            "image/png": "[encoded data removed]",
            "text/plain": [
              "<Figure size 1080x360 with 1 Axes>"
            ]
          },
          "metadata": {
            "tags": [],
            "needs_background": "light"
          }
        }
      ]
    },
    {
      "cell_type": "code",
      "metadata": {
        "id": "159ab306-6037-4a14-80bc-48fdb3ea0514"
      },
      "source": [
        "# A biblioteca recomenda salva o modelo desta forma\n",
        "\n",
        "torch.save(model.state_dict(), 'model_final_dict_torch_lstm_apple.pth')"
      ],
      "id": "159ab306-6037-4a14-80bc-48fdb3ea0514",
      "execution_count": null,
      "outputs": []
    },
    {
      "cell_type": "code",
      "metadata": {
        "id": "62826ce1-e7c8-4ada-a7db-ca44ff0d1b7a",
        "colab": {
          "base_uri": "https://localhost:8080/"
        },
        "outputId": "4438bd6e-3d47-484f-ae82-867a3d254c73"
      },
      "source": [
        "# carregar novamente o modelo é preciso instânciá-lo e caso esse seja levado ao outro ambiente lembrar de salva\n",
        "# a forma da classe criada para o carregamento correto.\n",
        "model = ModeloLSTM()\n",
        "model.load_state_dict(torch.load('model_final_dict_torch_lstm_apple.pth'))\n",
        "model.eval()"
      ],
      "id": "62826ce1-e7c8-4ada-a7db-ca44ff0d1b7a",
      "execution_count": null,
      "outputs": [
        {
          "output_type": "execute_result",
          "data": {
            "text/plain": [
              "ModeloLSTM(\n",
              "  (lstm1): LSTM(1, 70)\n",
              "  (lstm2): LSTM(1, 50)\n",
              "  (linear): Linear(in_features=50, out_features=1, bias=True)\n",
              ")"
            ]
          },
          "metadata": {
            "tags": []
          },
          "execution_count": 285
        }
      ]
    },
    {
      "cell_type": "code",
      "metadata": {
        "id": "8265e33c-f157-4a69-92b3-4c7899235511"
      },
      "source": [
        "# Para a reutilização do modelo em produção a escala que os dados foram normalizados também deve ser salva\n",
        "# após salva-lo, para o carregar faço como abertura de arquivo, fechando-o ao fim\n",
        "from pickle import dump\n",
        "\n",
        "dump(scaler, open('scaler.pkl', 'wb'))"
      ],
      "id": "8265e33c-f157-4a69-92b3-4c7899235511",
      "execution_count": null,
      "outputs": []
    },
    {
      "cell_type": "code",
      "metadata": {
        "id": "5983b562-66ba-42eb-93ae-fcf64fdd4654"
      },
      "source": [
        ""
      ],
      "id": "5983b562-66ba-42eb-93ae-fcf64fdd4654",
      "execution_count": null,
      "outputs": []
    }
  ]
}